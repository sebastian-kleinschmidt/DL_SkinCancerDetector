{
 "cells": [
  {
   "cell_type": "markdown",
   "metadata": {},
   "source": [
    "# Dermatologist AI"
   ]
  },
  {
   "cell_type": "markdown",
   "metadata": {},
   "source": [
    "## Dataloader"
   ]
  },
  {
   "cell_type": "code",
   "execution_count": null,
   "metadata": {},
   "outputs": [],
   "source": [
    "import os\n",
    "from PIL import Image\n",
    "import torchvision.transforms as transforms\n",
    "from torchvision import datasets\n",
    "from torch.utils.data.sampler import SubsetRandomSampler\n",
    "\n",
    "# how many samples per batch to load\n",
    "batch_size = 32\n",
    "\n",
    "# Declare augmentation transformations which will be applied to all input images of the trainset\n",
    "transform_augm = transforms.Compose([\n",
    "    transforms.ColorJitter(brightness=0.1, contrast=0.1, saturation=0.1, hue=0.1),\n",
    "    transforms.RandomHorizontalFlip(),\n",
    "    transforms.RandomAffine(30),\n",
    "    transforms.RandomResizedCrop(224, scale=(0.75, 1.0), ratio=(0.85, 1.15)),\n",
    "    transforms.ToTensor(),\n",
    "    transforms.Normalize(mean=[0.485, 0.456, 0.406],\n",
    "                                 std=[0.229, 0.224, 0.225])\n",
    "    ])\n",
    "\n",
    "# Declare transformations which will be applied to all input images of the test and validationset\n",
    "transform = transforms.Compose([\n",
    "    transforms.Resize((230,230)),\n",
    "    transforms.CenterCrop(224),\n",
    "    transforms.ToTensor(),\n",
    "    transforms.Normalize(mean=[0.485, 0.456, 0.406],\n",
    "                                 std=[0.229, 0.224, 0.225])\n",
    "    ])\n",
    "\n",
    "#Declare datasets\n",
    "data_scratch = {}\n",
    "data_scratch['train'] = datasets.ImageFolder('data/train/',transform=transform_augm)\n",
    "data_scratch['valid'] = datasets.ImageFolder('data/valid/',transform=transform)\n",
    "data_scratch['test'] = datasets.ImageFolder('data/test/',transform=transform)\n",
    "\n",
    "#Declare loader\n",
    "loaders_scratch = {}\n",
    "loaders_scratch['train'] = torch.utils.data.DataLoader(data_scratch['train'], shuffle=True, batch_size=batch_size)\n",
    "loaders_scratch['valid'] = torch.utils.data.DataLoader(data_scratch['valid'], shuffle=True, batch_size=batch_size)\n",
    "loaders_scratch['test'] = torch.utils.data.DataLoader(data_scratch['test'], shuffle=False, batch_size=batch_size)\n",
    "\n"
   ]
  },
  {
   "cell_type": "markdown",
   "metadata": {},
   "source": [
    "## Data Inspection"
   ]
  },
  {
   "cell_type": "code",
   "execution_count": null,
   "metadata": {},
   "outputs": [],
   "source": []
  }
 ],
 "metadata": {
  "kernelspec": {
   "display_name": "Python 3",
   "language": "python",
   "name": "python3"
  },
  "language_info": {
   "codemirror_mode": {
    "name": "ipython",
    "version": 3
   },
   "file_extension": ".py",
   "mimetype": "text/x-python",
   "name": "python",
   "nbconvert_exporter": "python",
   "pygments_lexer": "ipython3",
   "version": "3.6.7"
  }
 },
 "nbformat": 4,
 "nbformat_minor": 2
}
